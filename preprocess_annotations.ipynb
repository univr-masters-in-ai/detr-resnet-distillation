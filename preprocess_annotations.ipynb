{
  "cells": [
    {
      "cell_type": "code",
      "execution_count": 22,
      "metadata": {
        "id": "JJZk_31882LX"
      },
      "outputs": [],
      "source": [
        "import os\n",
        "import json\n",
        "from PIL import Image\n",
        "import xml.etree.ElementTree as ET\n",
        "\n",
        "def add_boxes(json_file, img_dir, xml_dir):\n",
        "    with open(json_file, \"r\") as f:\n",
        "        data = json.load(f)\n",
        "    cats = data[\"categories\"]\n",
        "    name_to_id = {c[\"name\"]: c[\"id\"] for c in cats}\n",
        "    images_dir = os.listdir(img_dir)\n",
        "    annotations = []\n",
        "    images = []\n",
        "    img_id=0\n",
        "\n",
        "    for fname in images_dir:\n",
        "        img_id+=1\n",
        "        if not fname.endswith(\".jpg\"):\n",
        "            continue\n",
        "        base = os.path.splitext(fname)[0]\n",
        "        image_path = os.path.join(img_dir, fname)\n",
        "        try:\n",
        "            with Image.open(image_path) as img:\n",
        "                width, height = img.size\n",
        "        except Exception as e:\n",
        "            print(f\"Failed to open image {image_path}: {e}\")\n",
        "            continue\n",
        "        images.append({\n",
        "            \"id\": img_id,\n",
        "            \"file_name\": fname,\n",
        "            \"width\": width,\n",
        "            \"height\": height\n",
        "        })\n",
        "        xml_path = os.path.join(xml_dir, base + \".xml\")\n",
        "        if not os.path.exists(xml_path):\n",
        "            annotations.append({\"image_id\": img_id, \"annotations\": []})\n",
        "            continue\n",
        "        tree = ET.parse(xml_path)\n",
        "        root = tree.getroot()\n",
        "        img_anns = []\n",
        "        for obj in root.findall(\"object\"):\n",
        "            if obj.find(\"name\") is None:\n",
        "                continue\n",
        "            name = obj.find(\"name\").text\n",
        "            cat_id = name_to_id.get(name)\n",
        "            if cat_id is None:\n",
        "                continue\n",
        "            box = obj.find(\"bndbox\")\n",
        "            x = float(box.find(\"xmin\").text)\n",
        "            y = float(box.find(\"ymin\").text)\n",
        "            xmax = float(box.find(\"xmax\").text)\n",
        "            ymax = float(box.find(\"ymax\").text)\n",
        "            w = xmax - x\n",
        "            h = ymax - y\n",
        "            img_anns.append({\"category_id\": cat_id, \"bbox\": [x, y, w, h]})\n",
        "        annotations.append({\"image_id\": img_id, \"annotations\": img_anns})\n",
        "    data[\"annotations\"] = annotations\n",
        "    data[\"images\"] = images\n",
        "    with open(json_file, \"w\") as f:\n",
        "        json.dump(data, f, indent=2)\n",
        "    print(f\"Updated {json_file} with {len(annotations)} image annotations and {len(images)} image entries.\")\n"
      ]
    },
    {
      "cell_type": "code",
      "execution_count": 24,
      "metadata": {
        "colab": {
          "base_uri": "https://localhost:8080/"
        },
        "id": "7Kdq8vwbPf6I",
        "outputId": "5b2762ad-5d05-4455-eeae-a47aa3007f97"
      },
      "outputs": [
        {
          "name": "stdout",
          "output_type": "stream",
          "text": [
            "Updated train.json with 74960 image annotations and 74960 image entries.\n"
          ]
        }
      ],
      "source": [
        "add_boxes('train.json','../subset/train/images','../subset/train/annotations' )"
      ]
    },
    {
      "cell_type": "code",
      "execution_count": 25,
      "metadata": {},
      "outputs": [
        {
          "name": "stdout",
          "output_type": "stream",
          "text": [
            "Updated test.json with 13310 image annotations and 13310 image entries.\n"
          ]
        }
      ],
      "source": [
        "add_boxes('test.json','../subset/test/images','../subset/test/annotations' )"
      ]
    }
  ],
  "metadata": {
    "colab": {
      "provenance": []
    },
    "kernelspec": {
      "display_name": "base",
      "language": "python",
      "name": "python3"
    },
    "language_info": {
      "codemirror_mode": {
        "name": "ipython",
        "version": 3
      },
      "file_extension": ".py",
      "mimetype": "text/x-python",
      "name": "python",
      "nbconvert_exporter": "python",
      "pygments_lexer": "ipython3",
      "version": "3.12.2"
    }
  },
  "nbformat": 4,
  "nbformat_minor": 0
}
